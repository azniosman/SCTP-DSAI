{
 "cells": [
  {
   "cell_type": "markdown",
   "id": "3ee88eca-eb9a-494c-970d-741fef36e547",
   "metadata": {},
   "source": [
    "# Regularization in Machine Learning\n",
    "\n",
    "Regularization is a technique used to prevent overfitting in machine learning models by penalizing complex models. It involves adding a regularization term to the loss function to control the model's complexity.\n",
    "\n",
    "## Types of Regularization\n",
    "\n",
    "The two most common types of regularization are L1 (Lasso) regularization and L2 (Ridge) regularization.\n",
    "\n",
    "### L1 Regularization (Lasso)\n",
    "\n",
    "L1 regularization adds the sum of the absolute values of the coefficients to the loss function. It can lead to sparse models where some feature coefficients are zeroed out, effectively performing feature selection.\n",
    "\n",
    "#### Formula\n",
    "\n",
    "$$ \\text{Loss Function} = \\text{MSE} + \\alpha \\sum_{i=1}^{n} |w_i| $$\n",
    "\n",
    "### L2 Regularization (Ridge)\n",
    "\n",
    "L2 regularization adds the sum of the squares of the coefficients to the loss function. It doesn't zero out coefficients but ensures they are small, leading to a less complex model.\n",
    "\n",
    "#### Formula\n",
    "\n",
    "$$ \\text{Loss Function} = \\text{MSE} + \\alpha \\sum_{i=1}^{n} w_i^2 $$\n",
    "\n",
    "### Elastic Net\n",
    "\n",
    "Elastic Net is a combination of L1 and L2 regularization. It is useful when there are multiple correlated features.\n",
    "\n",
    "#### Formula\n",
    "\n",
    "$$ \\text{Loss Function} = \\text{MSE} + \\alpha \\rho \\sum_{i=1}^{n} |w_i| + \\alpha (1-\\rho) \\sum_{i=1}^{n} w_i^2 $$\n",
    "\n",
    "## Choosing the Regularization Parameter\n",
    "\n",
    "The regularization parameter ($\\alpha$) controls the strength of the penalty. The L1 ratio ($\\rho$) controls the combination of L1 and L2 penalties.\n",
    "\n",
    "## Benefits of Regularization\n",
    "\n",
    "- Reduces overfitting by penalizing large coefficients.\n",
    "- Can lead to simpler models that generalize better.\n",
    "- In the case of L1 regularization, can perform feature selection by zeroing out coefficients."
   ]
  },
  {
   "cell_type": "code",
   "execution_count": null,
   "id": "1804fc2e-4b86-42e2-beab-442a8f9251ea",
   "metadata": {},
   "outputs": [],
   "source": [
    "from sklearn.linear_model import LinearRegression, Ridge, Lasso, LogisticRegression\n",
    "from sklearn.model_selection import train_test_split\n",
    "from sklearn.metrics import mean_squared_error, confusion_matrix, accuracy_score, precision_score, recall_score, f1_score, roc_curve, auc\n",
    "from sklearn.datasets import make_regression, make_classification"
   ]
  },
  {
   "cell_type": "code",
   "execution_count": null,
   "id": "9012efa9-da56-46b0-b18f-8435f092e190",
   "metadata": {},
   "outputs": [],
   "source": [
    "# generate a synthetic regression dataset\n",
    "X, y = make_regression(n_samples=1000, n_features=20, random_state=0)"
   ]
  },
  {
   "cell_type": "code",
   "execution_count": null,
   "id": "90029a99-9730-434a-b2cb-b7f7dd435807",
   "metadata": {},
   "outputs": [],
   "source": [
    "X_train, X_test, y_train, y_test = train_test_split(X, y, test_size=0.2, random_state=0)"
   ]
  },
  {
   "cell_type": "code",
   "execution_count": null,
   "id": "fd6d3eac-ea5b-4995-92f4-2f37f9931f79",
   "metadata": {},
   "outputs": [],
   "source": [
    "linear_reg = LinearRegression()\n",
    "linear_reg.fit(X_train, y_train)"
   ]
  },
  {
   "cell_type": "code",
   "execution_count": null,
   "id": "5d11fccb-05e6-4796-9d05-5d773f81a189",
   "metadata": {},
   "outputs": [],
   "source": [
    "linear_preds = linear_reg.predict(X_test)\n",
    "linear_mse = mean_squared_error(y_test, linear_preds)\n",
    "\n",
    "print(f'Linear MSE: {linear_mse}')"
   ]
  },
  {
   "cell_type": "code",
   "execution_count": null,
   "id": "e94c31a4-b089-4042-81fb-ca0472545709",
   "metadata": {},
   "outputs": [],
   "source": [
    "# initialize Ridge Regression model with regularization strength lambda (alpha)\n",
    "ridge_reg = Ridge(alpha=1.0)\n",
    "ridge_reg.fit(X_train, y_train)"
   ]
  },
  {
   "cell_type": "code",
   "execution_count": null,
   "id": "b744eb96-6d3a-4b7e-9e58-d6a7e76035f1",
   "metadata": {},
   "outputs": [],
   "source": [
    "ridge_preds = ridge_reg.predict(X_test)\n",
    "ridge_mse = mean_squared_error(y_test, ridge_preds)\n",
    "\n",
    "print(f'Ridge MSE: {ridge_mse}')"
   ]
  },
  {
   "cell_type": "code",
   "execution_count": null,
   "id": "91588b0d-7b76-4469-b7ee-2a0e1ec51021",
   "metadata": {},
   "outputs": [],
   "source": [
    "lasso_reg = Lasso(alpha=0.1)\n",
    "lasso_reg.fit(X_train, y_train)\n",
    "\n",
    "lasso_preds = lasso_reg.predict(X_test)\n",
    "lasso_mse = mean_squared_error(y_test, lasso_preds)\n",
    "\n",
    "print(f'Lasso MSE: {lasso_mse}')"
   ]
  },
  {
   "cell_type": "markdown",
   "id": "7f483d13-0128-481c-b926-1950ac071795",
   "metadata": {},
   "source": [
    "Logistic Regression model in `sklearn` already has regularization built-in. The default is `L2 (Ridge)`."
   ]
  },
  {
   "cell_type": "code",
   "execution_count": null,
   "id": "09a46f50-1ba3-4d1b-9ee8-35e7162a7ca0",
   "metadata": {},
   "outputs": [],
   "source": [
    "# generate a synthetic classification dataset\n",
    "X, y = make_classification(n_samples=1000, n_features=20, n_classes=2, random_state=0)"
   ]
  },
  {
   "cell_type": "code",
   "execution_count": null,
   "id": "3fb56e23-9142-437c-9116-fde1d818f2c6",
   "metadata": {},
   "outputs": [],
   "source": [
    "X_train, X_test, y_train, y_test = train_test_split(X, y, test_size=0.2, random_state=0)"
   ]
  },
  {
   "cell_type": "code",
   "execution_count": null,
   "id": "0517c3d4-1169-43d4-ac10-c5b9e9c383e4",
   "metadata": {},
   "outputs": [],
   "source": [
    "log_ridge_reg = LogisticRegression(C=1.0)\n",
    "log_ridge_reg.fit(X_train, y_train)"
   ]
  },
  {
   "cell_type": "code",
   "execution_count": null,
   "id": "9b7d3f20-e765-4cfa-97bb-22c0bf2dd5ee",
   "metadata": {},
   "outputs": [],
   "source": [
    "y_pred = log_ridge_reg.predict(X_test)\n",
    "\n",
    "conf_matrix = confusion_matrix(y_test, y_pred)\n",
    "accuracy = accuracy_score(y_test, y_pred)\n",
    "precision = precision_score(y_test, y_pred)\n",
    "recall = recall_score(y_test, y_pred)\n",
    "f1 = f1_score(y_test, y_pred)"
   ]
  },
  {
   "cell_type": "code",
   "execution_count": null,
   "id": "03d88388-4141-49a8-9975-e6d982eb1f32",
   "metadata": {},
   "outputs": [],
   "source": [
    "print(f\"Confusion Matrix:\\n{conf_matrix}\")\n",
    "print(f\"Accuracy: {accuracy:.2f}\")\n",
    "print(f\"Precision: {precision:.2f}\")\n",
    "print(f\"Recall: {recall:.2f}\")\n",
    "print(f\"F1 Score: {f1:.2f}\")"
   ]
  },
  {
   "cell_type": "code",
   "execution_count": null,
   "id": "ec4a3d7b-bab0-4743-bd04-106fd1c3d80e",
   "metadata": {},
   "outputs": [],
   "source": [
    "log_lasso_reg = LogisticRegression(C=1.0, penalty='l1', solver='saga')\n",
    "log_lasso_reg.fit(X_train, y_train)"
   ]
  },
  {
   "cell_type": "code",
   "execution_count": null,
   "id": "3bcda0be-2f35-441e-9986-fa28b6ace844",
   "metadata": {},
   "outputs": [],
   "source": [
    "y_pred = log_lasso_reg.predict(X_test)\n",
    "\n",
    "conf_matrix = confusion_matrix(y_test, y_pred)\n",
    "accuracy = accuracy_score(y_test, y_pred)\n",
    "precision = precision_score(y_test, y_pred)\n",
    "recall = recall_score(y_test, y_pred)\n",
    "f1 = f1_score(y_test, y_pred)"
   ]
  },
  {
   "cell_type": "code",
   "execution_count": null,
   "id": "87ec1f0b-de1a-44e0-ab0e-0b6bf667a41e",
   "metadata": {},
   "outputs": [],
   "source": [
    "print(f\"Confusion Matrix:\\n{conf_matrix}\")\n",
    "print(f\"Accuracy: {accuracy:.2f}\")\n",
    "print(f\"Precision: {precision:.2f}\")\n",
    "print(f\"Recall: {recall:.2f}\")\n",
    "print(f\"F1 Score: {f1:.2f}\")"
   ]
  },
  {
   "cell_type": "code",
   "execution_count": null,
   "id": "04519fd6-ac52-47f7-8a18-0cd3038546a9",
   "metadata": {},
   "outputs": [],
   "source": [
    "log_enet_reg = LogisticRegression(penalty='elasticnet', solver='saga', C=1, l1_ratio=0.5)\n",
    "log_enet_reg.fit(X_train, y_train)"
   ]
  },
  {
   "cell_type": "code",
   "execution_count": null,
   "id": "c873498c-09be-4b04-909d-4d499a06d925",
   "metadata": {},
   "outputs": [],
   "source": [
    "y_pred = log_enet_reg.predict(X_test)\n",
    "\n",
    "conf_matrix = confusion_matrix(y_test, y_pred)\n",
    "accuracy = accuracy_score(y_test, y_pred)\n",
    "precision = precision_score(y_test, y_pred)\n",
    "recall = recall_score(y_test, y_pred)\n",
    "f1 = f1_score(y_test, y_pred)"
   ]
  },
  {
   "cell_type": "code",
   "execution_count": null,
   "id": "9c43b317-122a-4f62-bdd8-429efc380c35",
   "metadata": {},
   "outputs": [],
   "source": [
    "print(f\"Confusion Matrix:\\n{conf_matrix}\")\n",
    "print(f\"Accuracy: {accuracy:.2f}\")\n",
    "print(f\"Precision: {precision:.2f}\")\n",
    "print(f\"Recall: {recall:.2f}\")\n",
    "print(f\"F1 Score: {f1:.2f}\")"
   ]
  },
  {
   "cell_type": "markdown",
   "id": "579a935c-07b7-4c8a-ab87-2a63645d0c54",
   "metadata": {},
   "source": [
    "# Hyperparameter Tuning, Cross-Validation, and Grid Search\n",
    "\n",
    "The regularization parameter ($\\alpha$) and L1 ratio ($\\rho$) are examples of **hyperparameters**. In machine learning, models have parameters that are learned from the data and hyperparameters that are set by the practitioner. Hyperparameter tuning is the process of finding the optimal combination of hyperparameters that yields the best performance. Cross-validation and grid search are two techniques used for this purpose.\n",
    "\n",
    "## Cross-Validation\n",
    "\n",
    "Cross-validation is a resampling procedure used to evaluate machine learning models on a limited data sample. Cross-validation involves partitioning the data into subsets, training the model on some subsets, and validating it on the remaining subsets. This process is repeated multiple times, and the results are averaged to estimate the model's performance. \n",
    "\n",
    "The goal is to assess how the predictions of a model will generalize to an independent dataset, which is identical to the purpose of train-test split which we have been doing thus far.\n",
    "\n",
    "The train-test split is a simple method to divide your dataset into two parts: one for training the model and the other for testing it. However it has the following disadvantages if we use it for hyperparamters tuning:\n",
    "\n",
    "- The evaluation may depend on how the data is split.\n",
    "- The test score can vary significantly based on which data points end up in the training set and which in the test set.\n",
    "- Less effective use of data, especially in cases where the amount of training data is limited.\n",
    "\n",
    "Cross-validation has the following advantages when it comes to hyperparameters tuning:\n",
    "\n",
    "- More reliable estimate of out-of-sample performance due to multiple rounds of splitting.\n",
    "- Makes better use of data as each data point gets to be in a test set exactly once and in a training set K-1 times.\n",
    "\n",
    "### Types of Cross-Validation\n",
    "\n",
    "![kfoldcv](../assets/kfold-cv.png)\n",
    "- **K-Fold Cross-Validation**: The dataset is divided into K equal folds. Each fold acts as the validation set 1 time and acts as the training set K-1 times. The average performance metric across all K trials is used.\n",
    "- **Leave-One-Out Cross-Validation**: A special case of K-Fold Cross-Validation where K is equal to the number of data points in the dataset.\n",
    "- **Stratified K-Fold Cross-Validation**: Similar to K-Fold but preserves the percentage of samples for each class.\n",
    "\n",
    "## Grid Search\n",
    "![grid-random-search](../assets/grid-random-search.png)\n",
    "\n",
    "Grid search is a brute force method to estimate the best hyperparameters. A grid of hyperparameter combinations is created, and the model is evaluated for each combination using cross-validation.\n",
    "\n",
    "### Process\n",
    "\n",
    "1. Define the hyperparameter grid.\n",
    "2. Use cross-validation to evaluate each combination of hyperparameters.\n",
    "3. Select the combination that yields the best performance.\n",
    "\n",
    "## Random Search\n",
    "\n",
    "Random search is an alternative to grid search. Instead of trying out every possible combination, it samples a random subset of parameter combinations.\n",
    "\n",
    "### Advantages\n",
    "\n",
    "- Can be faster than grid search when dealing with a large hyperparameter space.\n",
    "- Can sometimes find a better combination of hyperparameters by exploring a wider range of values.\n",
    "\n",
    "### Process\n",
    "\n",
    "1. Define a search space as a bounded domain of hyperparameter values.\n",
    "2. Randomly sample combinations of hyperparameters from this domain.\n",
    "3. Perform cross-validation for each combination.\n",
    "4. Select the combination that yields the best validation score.\n",
    "\n",
    "## Model Training Workflow\n",
    "\n",
    "The end-to-end model training workflow goes like this:\n",
    "\n",
    "1. After preprocessing of the data, train-test split is performed. The test set is kept for the final evaluation of the (hyperparameter-) tuned model.\n",
    "2. A combination of hyperparameters' prospective values (usually a range or list) is determined. Then grid-search (or random search) is performed to determine the best possible combination candidate by using cross-validation to evaluate each candidate.\n",
    "3. The whole training set is used to train the model with the best candidate combination of hyperparameters found from the previous step. This model is called the (hyperparameter-) tuned model.\n",
    "4. Evaluate the tuned model on the test set."
   ]
  },
  {
   "cell_type": "markdown",
   "id": "73fdffd3-cdcb-43af-8c62-f5b812a5f4f3",
   "metadata": {},
   "source": [
    "Let's perform the workflow on a regularized `Logistic Regression` model on the `titanic` dataset."
   ]
  },
  {
   "cell_type": "code",
   "execution_count": null,
   "id": "fc914c25-83d0-479d-b787-027eeaa7029f",
   "metadata": {},
   "outputs": [],
   "source": [
    "import seaborn as sns\n",
    "from sklearn.model_selection import GridSearchCV, cross_val_score, train_test_split\n",
    "from sklearn.preprocessing import StandardScaler, OneHotEncoder\n",
    "from sklearn.compose import ColumnTransformer\n",
    "from sklearn.impute import SimpleImputer\n",
    "from sklearn.pipeline import Pipeline\n",
    "from sklearn.linear_model import LogisticRegression\n",
    "from sklearn.metrics import accuracy_score, precision_score, recall_score, f1_score, roc_curve, auc"
   ]
  },
  {
   "cell_type": "code",
   "execution_count": null,
   "id": "201de337-1e1e-478c-98eb-f5c8562cc97c",
   "metadata": {},
   "outputs": [],
   "source": [
    "titanic = sns.load_dataset('titanic')\n",
    "features = ['pclass', 'sex', 'age', 'sibsp', 'parch', 'fare', 'embarked']\n",
    "target = 'survived'\n",
    "\n",
    "X = titanic[features]\n",
    "y = titanic[target]"
   ]
  },
  {
   "cell_type": "code",
   "execution_count": null,
   "id": "7f85db5a-17f7-4140-827a-9841f8ea05bf",
   "metadata": {},
   "outputs": [],
   "source": [
    "# preprocessing for numerical data\n",
    "numerical_transformer = Pipeline(steps=[\n",
    "    ('imputer', SimpleImputer(strategy='median')),\n",
    "    ('scaler', StandardScaler())\n",
    "])\n",
    "\n",
    "# preprocessing for categorical data\n",
    "categorical_transformer = Pipeline(steps=[\n",
    "    ('imputer', SimpleImputer(strategy='most_frequent')),\n",
    "    ('onehot', OneHotEncoder(handle_unknown='ignore'))\n",
    "])\n",
    "\n",
    "# bundle preprocessing for numerical and categorical data\n",
    "preprocessor = ColumnTransformer(\n",
    "    transformers=[\n",
    "        ('num', numerical_transformer, ['age', 'sibsp', 'parch', 'fare']),\n",
    "        ('cat', categorical_transformer, ['pclass', 'sex', 'embarked'])\n",
    "    ])\n",
    "\n",
    "# define the model\n",
    "model = LogisticRegression(penalty='elasticnet', solver='saga')\n",
    "\n",
    "# define the hyperparameter grid\n",
    "param_grid = {\n",
    "    'C': [0.05, 0.1, 0.15, 0.2],\n",
    "    'l1_ratio': [0, 0.25, 0.5, 0.75, 1.0],\n",
    "}\n",
    "\n",
    "# initialize GridSearchCV with the model, parameter grid, cross-validation strategy, and scoring metrics\n",
    "# here we use f1 score as the metrics\n",
    "grid_search = GridSearchCV(estimator=model, param_grid=param_grid, cv=5, n_jobs=-1, verbose=2, scoring='f1')\n",
    "\n",
    "# create and evaluate the pipeline\n",
    "pipeline = Pipeline(steps=[('preprocessor', preprocessor),\n",
    "                           ('grid_search', grid_search)\n",
    "                          ])"
   ]
  },
  {
   "cell_type": "code",
   "execution_count": null,
   "id": "ae5659cb-a24c-44de-b56e-953294da7aa5",
   "metadata": {},
   "outputs": [],
   "source": [
    "X_train, X_test, y_train, y_test = train_test_split(X, y, test_size=0.2, random_state=0)\n",
    "\n",
    "pipeline.fit(X_train, y_train)"
   ]
  },
  {
   "cell_type": "code",
   "execution_count": null,
   "id": "0849a556-8f0f-4366-baf8-201461978394",
   "metadata": {},
   "outputs": [],
   "source": [
    "best_params = grid_search.best_params_\n",
    "best_score = grid_search.best_score_\n",
    "\n",
    "print(f\"Best Parameters: {best_params}\")\n",
    "print(f\"Best Score: {best_score:.4f}\")"
   ]
  },
  {
   "cell_type": "code",
   "execution_count": null,
   "id": "76166c3a-c20f-42e5-be24-82bc6c07e467",
   "metadata": {},
   "outputs": [],
   "source": [
    "list(zip(grid_search.cv_results_['params'], grid_search.cv_results_['mean_test_score']))"
   ]
  },
  {
   "cell_type": "code",
   "execution_count": null,
   "id": "6ee68573-aa39-454e-b26e-9d106a795dc5",
   "metadata": {},
   "outputs": [],
   "source": [
    "preds = pipeline.predict(X_test)\n",
    "\n",
    "accuracy = accuracy_score(y_test, preds)\n",
    "precision = precision_score(y_test, preds)\n",
    "recall = recall_score(y_test, preds)\n",
    "f1 = f1_score(y_test, preds)\n",
    "fpr, tpr, thresholds = roc_curve(y_test, pipeline.predict_proba(X_test)[:,1])\n",
    "roc_auc = auc(fpr, tpr)"
   ]
  },
  {
   "cell_type": "code",
   "execution_count": null,
   "id": "a7dae67d-9e84-465b-9ce0-1a9c25517d97",
   "metadata": {},
   "outputs": [],
   "source": [
    "print(f'Accuracy: {accuracy:.2f}')\n",
    "print(f'Precision: {precision:.2f}')\n",
    "print(f'Recall: {recall:.2f}')\n",
    "print(f'F1 Score: {f1:.2f}')\n",
    "print(f\"AUC: {roc_auc:.2f}\")"
   ]
  },
  {
   "cell_type": "markdown",
   "id": "822eac82-9284-4640-b615-bca6fbf32e8b",
   "metadata": {},
   "source": [
    "# Decision Trees\n",
    "\n",
    "Decision trees are a popular machine learning algorithm used for both classification and regression tasks. They are easy to understand, visualize, and implement. They are also the base model used for more advanced algorithms like random forest and gradient boosting.\n",
    "\n",
    "## What is a Decision Tree?\n",
    "\n",
    "A decision tree is a flowchart-like tree structure where an internal node represents a feature(or attribute), the branch represents a decision rule, and each leaf node represents the outcome. The topmost node in a tree is known as the root node.\n",
    "\n",
    "![decision-tree](../assets/decision-tree.png)\n",
    "\n",
    "## How Does a Decision Tree Work?\n",
    "\n",
    "A decision tree splits the data into subsets based on the value of input features. This process is repeated recursively, resulting in a tree with decision nodes and leaf nodes.\n",
    "\n",
    "### Decision Node\n",
    "\n",
    "A decision node has two or more branches, each representing values for the attribute tested.\n",
    "\n",
    "### Leaf Node\n",
    "\n",
    "A leaf node represents a class label (in classification) or a continuous value (in regression).\n",
    "\n",
    "## Building a Decision Tree\n",
    "\n",
    "To build a decision tree, algorithms like ID3, C4.5, C5.0, and CART (Classification and Regression Trees) can be used. The most common algorithm used in `sklearn` is CART, which uses the **Gini impurity** or **entropy** as a criterion to create splits.\n",
    "\n",
    "### Gini Impurity\n",
    "\n",
    "Gini impurity is a measure of how often a randomly chosen element from the set would be incorrectly labeled if it was randomly labeled according to the distribution of labels in the subset.\n",
    "\n",
    "For a dataset with $ J $ classes, the Gini impurity of a node $ n $ is defined as:\n",
    "\n",
    "$$ G(n) = 1 - \\sum_{j=1}^{J} p_j^2 $$\n",
    "\n",
    "where $ p_j $ is the fraction of items labeled with class $ j $ in the set.\n",
    "\n",
    "- **Minimum (0)**: The Gini impurity is zero when all the samples in a node belong to a single class, indicating perfect purity.\n",
    "- **Maximum ($1 - \\frac{1}{J}$)**: The Gini impurity is maximized when the classes are evenly distributed across the node. For binary classification, this is when the classes are split 50/50 in a node, resulting in a Gini impurity of 0.5. For more classes, the maximum value decreases, reaching its theoretical maximum when each class has an equal probability.\n",
    "\n",
    "![gini](../assets/gini.png)\n",
    "\n",
    "### Entropy\n",
    "\n",
    "Entropy is a measure of the randomness in the information being processed. The higher the entropy, the harder it is to draw any conclusions from that information. In the context of decision trees, it's used to quantify the impurity or disorder after a dataset is split on an attribute.\n",
    "\n",
    "For a dataset with $ J $ classes, the entropy of a node $ n $ is defined as:\n",
    "\n",
    "$$ H(n) = -\\sum_{j=1}^{J} p_j \\log_2(p_j) $$\n",
    "\n",
    "where $ p_j $ is the proportion of the samples that belong to class $ j $.\n",
    "\n",
    "- **Minimum (0)**: Entropy is zero when all samples at a node belong to the same class, which means there is no uncertainty or randomness.\n",
    "- **Maximum ($ \\log_2(J) $)**: Entropy is maximized when there is an equal number of samples from each class in the node, indicating the highest level of disorder or uncertainty. For binary classification, the maximum entropy is 1 (since $ \\log_2(2) = 1 $). As the number of classes increases, the maximum possible entropy increases logarithmically.\n",
    "\n",
    "### Information Gain\n",
    "\n",
    "Information gain is based on the decrease in entropy after a dataset is split on an attribute. It is used to decide which attribute to split on at each step in building the tree.\n",
    "\n",
    "For a dataset $ D $, split into subsets $ \\{D_1, D_2, ..., D_k\\} $ using feature $ A $, the information gain $ IG $ is defined as:\n",
    "\n",
    "$$ IG(D, A) = H(D) - \\sum_{i=1}^{k} \\frac{|D_i|}{|D|} H(D_i) $$\n",
    "\n",
    "where:\n",
    "- $ H(D) $ is the entropy of the entire dataset,\n",
    "- $ |D_i|/|D| $ is the weight of the $ i $-th subset,\n",
    "- $ H(D_i) $ is the entropy of the $ i $-th subset.\n",
    "\n",
    "## Advantages of Decision Trees\n",
    "\n",
    "- Simple to understand and interpret.\n",
    "- Requires little data preprocessing.\n",
    "- Can handle both numerical and categorical data.\n",
    "\n",
    "## Disadvantages of Decision Trees\n",
    "\n",
    "- Prone to overfitting, especially with a lot of features.\n",
    "- Can be unstable because small variations in the data might result in a completely different tree.\n",
    "\n",
    "## Pruning a Decision Tree\n",
    "\n",
    "Pruning is a technique used to reduce the size of decision trees by removing sections of the tree that provide little power in classifying instances. It reduces the complexity of the final classifier, hence reducing the risk of overfitting."
   ]
  },
  {
   "cell_type": "markdown",
   "id": "d758d527-2106-467f-8070-eac748987af6",
   "metadata": {},
   "source": [
    "Let's apply the Decision Tree workflow on titanic dataset. We can skip the preprocessing and train-test split steps are they are identical."
   ]
  },
  {
   "cell_type": "code",
   "execution_count": null,
   "id": "842d739a-9424-497c-a6e6-5c30de4f4036",
   "metadata": {},
   "outputs": [],
   "source": [
    "from sklearn.tree import DecisionTreeClassifier"
   ]
  },
  {
   "cell_type": "code",
   "execution_count": null,
   "id": "1f9d6571-cb89-49b4-89d1-28ef10872391",
   "metadata": {},
   "outputs": [],
   "source": [
    "# define the model\n",
    "model = DecisionTreeClassifier(criterion='gini', random_state=0)\n",
    "\n",
    "# define the hyperparameter grid\n",
    "param_grid = {\n",
    "    'max_depth': [None, 2, 4, 6, 8, 10],\n",
    "    'min_samples_split': [2, 4, 6, 8],\n",
    "    'min_samples_leaf': [2, 4, 6, 8],\n",
    "}\n",
    "\n",
    "# initialize GridSearchCV with the model, parameter grid, cross-validation strategy, and scoring metrics\n",
    "# here we use f1 score as the metrics\n",
    "grid_search = GridSearchCV(estimator=model, param_grid=param_grid, cv=5, n_jobs=-1, verbose=2, scoring='f1')\n",
    "\n",
    "# create and evaluate the pipeline\n",
    "pipeline = Pipeline(steps=[('preprocessor', preprocessor),\n",
    "                           ('grid_search', grid_search)\n",
    "                          ])"
   ]
  },
  {
   "cell_type": "code",
   "execution_count": null,
   "id": "eb21d295-e3c4-45db-84b7-9d36399887b2",
   "metadata": {},
   "outputs": [],
   "source": [
    "pipeline.fit(X_train, y_train)"
   ]
  },
  {
   "cell_type": "code",
   "execution_count": null,
   "id": "9937ab7b-68ec-4726-a96d-1a7cdaf79a67",
   "metadata": {},
   "outputs": [],
   "source": [
    "best_params = grid_search.best_params_\n",
    "best_score = grid_search.best_score_\n",
    "\n",
    "print(f\"Best Parameters: {best_params}\")\n",
    "print(f\"Best Score: {best_score:.4f}\")"
   ]
  },
  {
   "cell_type": "code",
   "execution_count": null,
   "id": "eb1b26a1-28f9-4656-a948-6321e1b93b62",
   "metadata": {},
   "outputs": [],
   "source": [
    "preds = pipeline.predict(X_test)\n",
    "\n",
    "accuracy = accuracy_score(y_test, preds)\n",
    "precision = precision_score(y_test, preds)\n",
    "recall = recall_score(y_test, preds)\n",
    "f1 = f1_score(y_test, preds)\n",
    "fpr, tpr, thresholds = roc_curve(y_test, pipeline.predict_proba(X_test)[:,1])\n",
    "roc_auc = auc(fpr, tpr)"
   ]
  },
  {
   "cell_type": "code",
   "execution_count": null,
   "id": "c4152d77-9fe5-46ae-9bf8-b0c047865b58",
   "metadata": {
    "scrolled": true
   },
   "outputs": [],
   "source": [
    "print(f'Accuracy: {accuracy:.2f}')\n",
    "print(f'Precision: {precision:.2f}')\n",
    "print(f'Recall: {recall:.2f}')\n",
    "print(f'F1 Score: {f1:.2f}')\n",
    "print(f\"AUC: {roc_auc:.2f}\")"
   ]
  },
  {
   "cell_type": "markdown",
   "id": "6dc98632-ee89-4aab-a845-23638ac919c5",
   "metadata": {},
   "source": [
    "## Visualizing the Decision Tree (Additional section - Alvin 20250626)\n",
    "\n",
    "Let's visualize the best decision tree model to better understand how it makes predictions."
   ]
  },
  {
   "cell_type": "code",
   "execution_count": null,
   "id": "ebbd2c85-5965-468b-84ea-215014ed028a",
   "metadata": {},
   "outputs": [],
   "source": [
    "from sklearn.tree import export_graphviz\n",
    "import graphviz\n",
    "import pandas as pd"
   ]
  },
  {
   "cell_type": "code",
   "execution_count": null,
   "id": "ea2efc77-2a23-434f-83a9-6a9679d80ef0",
   "metadata": {},
   "outputs": [],
   "source": [
    "# Extract the best decision tree model from the pipeline\n",
    "best_tree = grid_search.best_estimator_"
   ]
  },
  {
   "cell_type": "code",
   "execution_count": null,
   "id": "6f2e7523-bb7d-448a-a67f-6ca950c5312a",
   "metadata": {},
   "outputs": [],
   "source": [
    "# Get feature names after preprocessing\n",
    "# First, get the categorical feature names after one-hot encoding\n",
    "cat_features = ['pclass', 'sex', 'embarked']\n",
    "cat_transformer = preprocessor.named_transformers_['cat']\n",
    "cat_encoder = cat_transformer.named_steps['onehot']\n",
    "cat_feature_names = cat_encoder.get_feature_names_out(cat_features)\n",
    "\n",
    "# Then, get the numerical feature names\n",
    "num_features = ['age', 'sibsp', 'parch', 'fare']\n",
    "\n",
    "# Combine all feature names\n",
    "feature_names = list(num_features) + list(cat_feature_names)\n",
    "\n",
    "# Export to DOT format\n",
    "dot_data = export_graphviz(\n",
    "    best_tree,\n",
    "    out_file=None,\n",
    "    feature_names=feature_names,\n",
    "    class_names=[\"Not Survived\", \"Survived\"],\n",
    "    filled=True,\n",
    "    rounded=True,\n",
    "    max_depth=3,  # Limit depth for better visualization\n",
    "    proportion=True,\n",
    "    precision=2\n",
    ")\n",
    "\n",
    "# Create visualization\n",
    "graph = graphviz.Source(dot_data, format=\"png\")\n",
    "\n",
    "# Display the visualization\n",
    "graph"
   ]
  },
  {
   "cell_type": "markdown",
   "id": "20b0eaa7-b3e7-4c39-a12e-ebc572d0be90",
   "metadata": {},
   "source": [
    "# Bagging vs Boosting, Random Forest, and Gradient Boosting\n",
    "\n",
    "## Introduction\n",
    "\n",
    "Ensemble learning is a powerful approach to improve the performance of machine learning models. It combines multiple models to produce a single predictive model. Two popular ensemble methods are bagging and boosting. This tutorial will explain the differences between them and introduce two specific algorithms: Random Forest and Gradient Boosting.\n",
    "\n",
    "## Bagging\n",
    "\n",
    "Bagging, or Bootstrap Aggregating, is an ensemble technique that aims to reduce the variance of a prediction model, such as decision trees. It involves training multiple models using different subsets of the training dataset.\n",
    "\n",
    "### How Bagging Works\n",
    "\n",
    "1. Create multiple subsets of the original dataset with replacement (bootstrapping).\n",
    "2. Train a separate model on each subset.\n",
    "3. Combine the predictions from all models, typically by averaging (regression) or voting (classification).\n",
    "\n",
    "### Random Forest\n",
    "\n",
    "Random Forest is an extension of bagging applied to decision trees. In addition to training on different subsets of data, it also uses a subset of features for each tree.\n",
    "\n",
    "#### Advantages\n",
    "\n",
    "- Reduces overfitting by averaging multiple trees.\n",
    "- Handles large datasets with higher dimensionality well.\n",
    "- Provides feature importance scores.\n",
    "\n",
    "## Boosting\n",
    "\n",
    "Boosting is an ensemble technique that aims to create a strong classifier from a number of weak classifiers. This is achieved by building a model from the training data, then creating a second model that tries to correct the errors from the first model.\n",
    "\n",
    "### How Boosting Works\n",
    "\n",
    "1. Train a model on the entire dataset.\n",
    "2. Train subsequent models by focusing on examples that were misclassified by previous models.\n",
    "3. Combine the predictions from all models, typically by weighted voting.\n",
    "\n",
    "![bagging-boosting](../assets/bagging_boosting.png)\n",
    "\n",
    "### Gradient Boosting\n",
    "\n",
    "Gradient Boosting is a variant of boosting technique that uses gradient descent to minimize errors in sequential models. It builds one tree at a time, where each new tree helps to correct errors made by previously trained trees.\n",
    "\n",
    "#### Advantages\n",
    "\n",
    "- Often provides predictive accuracy that cannot be trumped.\n",
    "- Lots of flexibility - can optimize on different loss functions and provides several hyperparameter tuning options that make the function fit very flexible.\n",
    "\n",
    "## Comparison\n",
    "\n",
    "- **Bagging** is parallel ensemble: each model is built independently.\n",
    "- **Boosting** is sequential ensemble: each model is built sequentially by taking into account the performance of the previous model.\n",
    "- **Random Forest** uses bagging with decision trees to reduce variance, providing a more reliable model.\n",
    "- **Gradient Boosting** uses boosting with decision trees to reduce bias, often resulting in better performance."
   ]
  },
  {
   "cell_type": "markdown",
   "id": "771cc4a3-7026-4d96-a009-045429727f93",
   "metadata": {},
   "source": [
    "Let's apply the Random Forest workflow on titanic dataset. We can skip the preprocessing and train-test split steps are they are identical."
   ]
  },
  {
   "cell_type": "code",
   "execution_count": null,
   "id": "9849c339-60aa-44cc-ab5b-409fbd2ef665",
   "metadata": {},
   "outputs": [],
   "source": [
    "from sklearn.ensemble import RandomForestClassifier, GradientBoostingClassifier"
   ]
  },
  {
   "cell_type": "code",
   "execution_count": null,
   "id": "e971bd71-81ea-461b-afb5-a4851f6d43be",
   "metadata": {},
   "outputs": [],
   "source": [
    "# define the model\n",
    "model = RandomForestClassifier(random_state=0)\n",
    "\n",
    "# define the hyperparameter grid\n",
    "param_grid = {\n",
    "    'n_estimators': [100, 200, 300, 400, 500],\n",
    "    'max_depth': [None, 2, 4, 6, 8],\n",
    "    'min_samples_split': [2, 4, 6, 8],\n",
    "    'min_samples_leaf': [2, 4, 6, 8],\n",
    "}\n",
    "\n",
    "# initialize GridSearchCV with the model, parameter grid, cross-validation strategy, and scoring metrics\n",
    "# here we use f1 score as the metrics\n",
    "grid_search = GridSearchCV(estimator=model, param_grid=param_grid, cv=5, n_jobs=-1, verbose=2, scoring='f1')\n",
    "\n",
    "# create and evaluate the pipeline\n",
    "pipeline = Pipeline(steps=[('preprocessor', preprocessor),\n",
    "                           ('grid_search', grid_search)\n",
    "                          ])"
   ]
  },
  {
   "cell_type": "code",
   "execution_count": null,
   "id": "5dd5291e-df9c-4188-ac09-ff13c5abdd5b",
   "metadata": {},
   "outputs": [],
   "source": [
    "pipeline.fit(X_train, y_train)"
   ]
  },
  {
   "cell_type": "code",
   "execution_count": null,
   "id": "f3c6797c-4740-4e4c-ad8d-73c0d8a2e1d8",
   "metadata": {},
   "outputs": [],
   "source": [
    "best_params = grid_search.best_params_\n",
    "best_score = grid_search.best_score_\n",
    "\n",
    "print(f\"Best Parameters: {best_params}\")\n",
    "print(f\"Best Score: {best_score:.4f}\")"
   ]
  },
  {
   "cell_type": "code",
   "execution_count": null,
   "id": "5abdf822-ad77-408b-8dcd-08cffb1b5dac",
   "metadata": {},
   "outputs": [],
   "source": [
    "preds = pipeline.predict(X_test)\n",
    "\n",
    "accuracy = accuracy_score(y_test, preds)\n",
    "precision = precision_score(y_test, preds)\n",
    "recall = recall_score(y_test, preds)\n",
    "f1 = f1_score(y_test, preds)\n",
    "fpr, tpr, thresholds = roc_curve(y_test, pipeline.predict_proba(X_test)[:,1])\n",
    "roc_auc = auc(fpr, tpr)"
   ]
  },
  {
   "cell_type": "code",
   "execution_count": null,
   "id": "6b2c8a19-f403-4788-9991-74c07f31bd4d",
   "metadata": {},
   "outputs": [],
   "source": [
    "print(f'Accuracy: {accuracy:.2f}')\n",
    "print(f'Precision: {precision:.2f}')\n",
    "print(f'Recall: {recall:.2f}')\n",
    "print(f'F1 Score: {f1:.2f}')\n",
    "print(f\"AUC: {roc_auc:.2f}\")"
   ]
  },
  {
   "cell_type": "markdown",
   "id": "d230e20e-8247-459a-8c1d-0e4781125bb1",
   "metadata": {},
   "source": [
    "> Now, repeat the pipeline for GradientBoostingClassifier"
   ]
  },
  {
   "cell_type": "code",
   "execution_count": null,
   "id": "7496ddee-09ee-4d93-9b53-e7ee41cfae94",
   "metadata": {},
   "outputs": [],
   "source": [
    "# define the model\n",
    "model = GradientBoostingClassifier(random_state=0)\n",
    "\n",
    "# define the hyperparameter grid\n",
    "param_grid = {\n",
    "    'n_estimators': [100, 200, 300, 400, 500],\n",
    "    'learning_rate': [0.01, 0.1, 0.2, 0.3],\n",
    "    'subsample': [0.8, 0.9, 1.0],\n",
    "    'min_samples_split': [2, 4, 6],\n",
    "    'min_samples_leaf': [2, 4, 6],\n",
    "}\n",
    "\n",
    "# initialize GridSearchCV with the model, parameter grid, cross-validation strategy, and scoring metrics\n",
    "# here we use f1 score as the metrics\n",
    "grid_search = GridSearchCV(estimator=model, param_grid=param_grid, cv=5, n_jobs=-1, verbose=2, scoring='f1')\n",
    "\n",
    "# create and evaluate the pipeline\n",
    "pipeline = Pipeline(steps=[('preprocessor', preprocessor),\n",
    "                           ('grid_search', grid_search)\n",
    "                          ])"
   ]
  },
  {
   "cell_type": "code",
   "execution_count": null,
   "id": "e7ca792b-e968-47e4-8690-a531003d08e3",
   "metadata": {
    "scrolled": true
   },
   "outputs": [],
   "source": [
    "pipeline.fit(X_train, y_train)"
   ]
  },
  {
   "cell_type": "code",
   "execution_count": null,
   "id": "7764a7f8-fd55-4196-9851-5f7f90263807",
   "metadata": {},
   "outputs": [],
   "source": [
    "best_params = grid_search.best_params_\n",
    "best_score = grid_search.best_score_\n",
    "\n",
    "print(f\"Best Parameters: {best_params}\")\n",
    "print(f\"Best Score: {best_score:.4f}\")"
   ]
  },
  {
   "cell_type": "code",
   "execution_count": null,
   "id": "e9b91833-396a-4ef0-a466-fe80e19213e3",
   "metadata": {},
   "outputs": [],
   "source": [
    "preds = pipeline.predict(X_test)\n",
    "\n",
    "accuracy = accuracy_score(y_test, preds)\n",
    "precision = precision_score(y_test, preds)\n",
    "recall = recall_score(y_test, preds)\n",
    "f1 = f1_score(y_test, preds)\n",
    "fpr, tpr, thresholds = roc_curve(y_test, pipeline.predict_proba(X_test)[:,1])\n",
    "roc_auc = auc(fpr, tpr)"
   ]
  },
  {
   "cell_type": "code",
   "execution_count": null,
   "id": "71c3e3bb-023a-4cc3-896f-896c90e35afa",
   "metadata": {},
   "outputs": [],
   "source": [
    "print(f'Accuracy: {accuracy:.2f}')\n",
    "print(f'Precision: {precision:.2f}')\n",
    "print(f'Recall: {recall:.2f}')\n",
    "print(f'F1 Score: {f1:.2f}')\n",
    "print(f\"AUC: {roc_auc:.2f}\")"
   ]
  },
  {
   "cell_type": "markdown",
   "id": "b5d71a2a-f1cf-4d9d-ac3c-e92c74cf52d9",
   "metadata": {},
   "source": [
    "# LightGBM\n",
    "\n",
    "LightGBM is a gradient boosting framework that uses tree-based learning algorithms and is designed for distributed and efficient training, particularly on large datasets. It stands for Light Gradient Boosting Machine and is developed by Microsoft. LightGBM is known for its speed and performance, as well as its ability to handle large-sized data and support GPU learning. It is currently one of the best Supervised Learning algorithms in terms of performance and speed for tabular (structural or dataframe-like) datasets.\n",
    "\n",
    "## Key Features of LightGBM\n",
    "\n",
    "- **Histogram-based Algorithms**: Instead of considering each value for each feature to find the optimal split, it buckets continuous feature values into discrete bins, which speeds up the training process.\n",
    "- **Gradient-based One-Side Sampling (GOSS)**: Keeps all the instances with large gradients and performs random sampling on the instances with small gradients.\n",
    "- **Exclusive Feature Bundling (EFB)**: Reduces the number of features by bundling mutually exclusive features, which decreases the training complexity without hurting the model accuracy.\n",
    "\n",
    "## Advantages of LightGBM\n",
    "\n",
    "- Faster training and higher efficiency.\n",
    "- Lower memory usage.\n",
    "- Better accuracy with support for parallel and GPU learning.\n",
    "- Capable of handling large-scale data.\n",
    "\n",
    "## Disadvantages of LightGBM\n",
    "\n",
    "- May overfit on small datasets.\n",
    "- Requires careful tuning of hyperparameters."
   ]
  },
  {
   "cell_type": "code",
   "execution_count": null,
   "id": "495ec4aa-7ed3-4779-80ce-fe7a85a3cf11",
   "metadata": {
    "scrolled": true
   },
   "outputs": [],
   "source": [
    "import lightgbm as lgb"
   ]
  },
  {
   "cell_type": "code",
   "execution_count": null,
   "id": "23316aee-c0ca-4998-8b1b-f233377e153d",
   "metadata": {},
   "outputs": [],
   "source": [
    "# define the model\n",
    "model = lgb.LGBMClassifier(random_state=0)\n",
    "\n",
    "# define the hyperparameter grid\n",
    "param_grid = {\n",
    "    'n_estimators': [50, 100, 200, 300],\n",
    "    'learning_rate': [0.05, 0.1, 0.2],\n",
    "    'num_leaves': [15, 31],\n",
    "    'subsample': [0.8, 1.0],\n",
    "    'colsample_bytree': [0.8, 1.0],\n",
    "}\n",
    "\n",
    "# initialize GridSearchCV with the model, parameter grid, cross-validation strategy, and scoring metrics\n",
    "# here we use f1 score as the metrics\n",
    "grid_search = GridSearchCV(estimator=model, param_grid=param_grid, cv=5, n_jobs=-1, verbose=2, scoring='f1')\n",
    "\n",
    "# create and evaluate the pipeline\n",
    "pipeline = Pipeline(steps=[('preprocessor', preprocessor),\n",
    "                           ('grid_search', grid_search)\n",
    "                          ])"
   ]
  },
  {
   "cell_type": "code",
   "execution_count": null,
   "id": "c379a187-7628-4575-abcf-80b8f57aaad1",
   "metadata": {},
   "outputs": [],
   "source": [
    "pipeline.fit(X_train, y_train)"
   ]
  },
  {
   "cell_type": "code",
   "execution_count": null,
   "id": "bed2accd-6c52-464e-a830-ba791f14eec3",
   "metadata": {},
   "outputs": [],
   "source": [
    "best_params = grid_search.best_params_\n",
    "best_score = grid_search.best_score_\n",
    "\n",
    "print(f\"Best Parameters: {best_params}\")\n",
    "print(f\"Best Score: {best_score:.4f}\")"
   ]
  },
  {
   "cell_type": "code",
   "execution_count": null,
   "id": "33764b6d-9b68-4b5b-8be8-8a20751afa5f",
   "metadata": {},
   "outputs": [],
   "source": [
    "preds = pipeline.predict(X_test)\n",
    "\n",
    "accuracy = accuracy_score(y_test, preds)\n",
    "precision = precision_score(y_test, preds)\n",
    "recall = recall_score(y_test, preds)\n",
    "f1 = f1_score(y_test, preds)\n",
    "fpr, tpr, thresholds = roc_curve(y_test, pipeline.predict_proba(X_test)[:,1])\n",
    "roc_auc = auc(fpr, tpr)"
   ]
  },
  {
   "cell_type": "code",
   "execution_count": null,
   "id": "753de130-a5b1-46a5-baea-c57c90d869f6",
   "metadata": {},
   "outputs": [],
   "source": [
    "print(f'Accuracy: {accuracy:.2f}')\n",
    "print(f'Precision: {precision:.2f}')\n",
    "print(f'Recall: {recall:.2f}')\n",
    "print(f'F1 Score: {f1:.2f}')\n",
    "print(f\"AUC: {roc_auc:.2f}\")"
   ]
  }
 ],
 "metadata": {
  "kernelspec": {
   "display_name": "ml-tree",
   "language": "python",
   "name": "python3"
  },
  "language_info": {
   "codemirror_mode": {
    "name": "ipython",
    "version": 3
   },
   "file_extension": ".py",
   "mimetype": "text/x-python",
   "name": "python",
   "nbconvert_exporter": "python",
   "pygments_lexer": "ipython3",
   "version": "3.11.5"
  }
 },
 "nbformat": 4,
 "nbformat_minor": 5
}
